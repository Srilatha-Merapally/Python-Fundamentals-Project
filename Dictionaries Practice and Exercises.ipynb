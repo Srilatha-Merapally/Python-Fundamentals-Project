{
 "cells": [
  {
   "cell_type": "code",
   "execution_count": 3,
   "metadata": {},
   "outputs": [
    {
     "name": "stdout",
     "output_type": "stream",
     "text": [
      "My name is Srilatha\n",
      "I am32years old\n",
      "I am from:India\n"
     ]
    }
   ],
   "source": [
    "#Printing the name and age\n",
    "Mydict={\"name\":\"Srilatha\",\"age\":32,\"Country\":\"India\"}\n",
    "print(\"My name is \" +Mydict[\"name\"]+'\\n'+\"I am\"+str(Mydict[\"age\"])+\"years old\"+\"\\n\" \"I am from:\"+Mydict[\"Country\"])"
   ]
  },
  {
   "cell_type": "code",
   "execution_count": 4,
   "metadata": {},
   "outputs": [
    {
     "name": "stdout",
     "output_type": "stream",
     "text": [
      "2\n"
     ]
    }
   ],
   "source": [
    "list=[1,2]\n",
    "print(list[1])"
   ]
  },
  {
   "cell_type": "code",
   "execution_count": 5,
   "metadata": {},
   "outputs": [
    {
     "name": "stdout",
     "output_type": "stream",
     "text": [
      "Apple\n"
     ]
    }
   ],
   "source": [
    "#Dictionaries with indexes and they can be any integer dont have to start at zero\n",
    "dict={0:\"Apple\",23:\"banana\"}\n",
    "print(dict[0])"
   ]
  },
  {
   "cell_type": "code",
   "execution_count": 6,
   "metadata": {},
   "outputs": [
    {
     "data": {
      "text/plain": [
       "False"
      ]
     },
     "execution_count": 6,
     "metadata": {},
     "output_type": "execute_result"
    }
   ],
   "source": [
    "#Lists are ordered it means which item comes first\n",
    "list1=[1,2,3]\n",
    "liste2=[3,1,2]\n",
    "list1==liste2"
   ]
  },
  {
   "cell_type": "code",
   "execution_count": null,
   "metadata": {},
   "outputs": [],
   "source": [
    "#Using For loops printing keys and values\n",
    "dict={\"A\":\"Apple\",\"B\":\"Ball\",\"c\":\"Cat\"}\n",
    "#for key in dict.keys():\n",
    "  #  print(key)\n",
    "#for value in dict.values():\n",
    " # print(value)\n",
    "for item in dict.items():\n",
    "    print(item)\n",
    " "
   ]
  },
  {
   "cell_type": "code",
   "execution_count": 16,
   "metadata": {},
   "outputs": [
    {
     "data": {
      "text/plain": [
       "True"
      ]
     },
     "execution_count": 16,
     "metadata": {},
     "output_type": "execute_result"
    }
   ],
   "source": [
    "#In and not in operatot to check keys and values with dictionaries\n",
    "dict={\"a\":1,\"b\":2,\"c\":3}\n",
    "#\"a\" in dict\n",
    "#1 in dict.values()\n",
    "#2 in dict---->It gives false it doesnt check\n",
    "#\"b\" in dict.keys()\n",
    "\"d\" not in dict"
   ]
  },
  {
   "cell_type": "code",
   "execution_count": 28,
   "metadata": {},
   "outputs": [
    {
     "name": "stdout",
     "output_type": "stream",
     "text": [
      "No of lions 5\n",
      "Which animals are 6?Tigers\n",
      "Other animals are 0\n"
     ]
    }
   ],
   "source": [
    "#Using get methods as checking key takes mcuh time and it throws lots of errors\n",
    "Animals={\"lions\":5,\"Tigers\":6,\"Cats\":0}\n",
    "print(\"No of lions\"\" \"+str(Animals.get(\"lions\",0)))\n",
    "print(\"Which animals are 6?\"+str(Animals.get(0,\"Tigers\")))\n",
    "print(\"Other animals are \"+str(Animals.get(\"dogs\",0)))"
   ]
  },
  {
   "cell_type": "code",
   "execution_count": 30,
   "metadata": {},
   "outputs": [
    {
     "name": "stdout",
     "output_type": "stream",
     "text": [
      "{'1': 'Ithika', '5': 'Vikranth', 7: 'Sree'}\n"
     ]
    }
   ],
   "source": [
    "nums={\"1\":'Ithika',\"5\":\"Vikranth\"}\n",
    "if \"sree\"  not in nums:\n",
    "    nums[7]=\"Sree\"\n",
    "    print(nums)\n",
    "\n"
   ]
  },
  {
   "cell_type": "code",
   "execution_count": 36,
   "metadata": {},
   "outputs": [
    {
     "name": "stdout",
     "output_type": "stream",
     "text": [
      "{'Lions': 2, 'Tigers': 5, 'cats': 6}\n",
      "{'Lions': 2, 'Tigers': 5, 'cats': 6}\n"
     ]
    }
   ],
   "source": [
    "#Using setdefault adding items to dictionary if we add second time with different value also it stores firat value\n",
    "animals={\"Lions\":2,\"Tigers\":5}\n",
    "animals.setdefault(\"cats\",6)\n",
    "print(animals)\n",
    "animals.setdefault(\"cats\",77)\n",
    "print(animals)\n"
   ]
  },
  {
   "cell_type": "code",
   "execution_count": 43,
   "metadata": {},
   "outputs": [
    {
     "name": "stdout",
     "output_type": "stream",
     "text": [
      "{'Sri': {'Laptop': 'windows', 'Phone': 'Android'}, 'Srinu': {'Laptop': 'windows', 'Phone': 'IOS'}}\n",
      "dict_keys(['Sri', 'Srinu'])\n",
      "dict_values([{'Laptop': 'windows', 'Phone': 'Android'}, {'Laptop': 'windows', 'Phone': 'IOS'}])\n",
      "dict_items([('Sri', {'Laptop': 'windows', 'Phone': 'Android'}), ('Srinu', {'Laptop': 'windows', 'Phone': 'IOS'})])\n",
      "['sri', 'srinu']\n"
     ]
    }
   ],
   "source": [
    "#Dictionaries with Dictionaries\n",
    "mydict={\"Sri\":{\"Laptop\":\"windows\",\"Phone\":\"Android\"},\"Srinu\":{\"Laptop\":\"windows\",\"Phone\":\"IOS\"}}\n",
    "print(mydict)\n",
    "print(mydict.keys())\n",
    "print(mydict.values())\n",
    "print(mydict.items())\n",
    "print(['sri','srinu'])"
   ]
  },
  {
   "cell_type": "code",
   "execution_count": 51,
   "metadata": {},
   "outputs": [
    {
     "name": "stdout",
     "output_type": "stream",
     "text": [
      "65\n"
     ]
    }
   ],
   "source": [
    "#Correct way to get the student marks\n",
    "student={\"name\":\"Emma\",\"Marks\":65,\"School\":\"Royalkids\"}\n",
    "print(student.get(\"Marks\",0))\n",
    "#student['marks']---->Wrong"
   ]
  },
  {
   "cell_type": "code",
   "execution_count": 52,
   "metadata": {},
   "outputs": [
    {
     "name": "stdout",
     "output_type": "stream",
     "text": [
      "None\n"
     ]
    }
   ],
   "source": [
    "#Output is null\n",
    "dict1 = {\"name\": \"Mike\", \"salary\": 8000}\n",
    "temp = dict1.get(\"age\")\n",
    "print(temp)\n"
   ]
  },
  {
   "cell_type": "code",
   "execution_count": 1,
   "metadata": {},
   "outputs": [
    {
     "name": "stdout",
     "output_type": "stream",
     "text": [
      "{'a': 'ithi', 'b': 'Building'}\n"
     ]
    }
   ],
   "source": [
    "#How to copy the Dictionary\n",
    "dict1={\"a\":\"ithi\",\"b\":\"Building\"}\n",
    "\"\"\"dict2=dict1.copy()--->1)Way of copying a dictionary\n",
    "print(dict2)\"\"\"\n",
    "\"\"\"dict2=dict1\n",
    "print(dict2)\n",
    "print(dict1)2)Other way of copying a dictionary\"\"\"\n",
    "# below is the third way of copying a dictionary\n",
    "dict2=dict(dict1)\n",
    "print(dict2)"
   ]
  },
  {
   "cell_type": "code",
   "execution_count": 3,
   "metadata": {},
   "outputs": [
    {
     "name": "stdout",
     "output_type": "stream",
     "text": [
      "{}\n"
     ]
    }
   ],
   "source": [
    "#way for deleting dectionaries\n",
    "dict={\"a\":1,\"b\":2}\n",
    "dict.clear()\n",
    "#del dict...>Its giving output <class 'dict'>\n",
    "print(dict)"
   ]
  },
  {
   "cell_type": "code",
   "execution_count": 5,
   "metadata": {},
   "outputs": [
    {
     "name": "stdout",
     "output_type": "stream",
     "text": [
      "[('first', 1), ('second', 2), ('third', 3)]\n"
     ]
    }
   ],
   "source": [
    "#Whats the output of thsi sample dict\n",
    "sampleDict = dict([\n",
    "    ('first', 1),\n",
    "    ('second', 2),\n",
    "    ('third', 3)\n",
    "])\n",
    "print(sampleDict)"
   ]
  },
  {
   "cell_type": "code",
   "execution_count": 5,
   "metadata": {},
   "outputs": [
    {
     "data": {
      "text/plain": [
       "80"
      ]
     },
     "execution_count": 5,
     "metadata": {},
     "output_type": "execute_result"
    }
   ],
   "source": [
    "sampleDict = { \n",
    "   \"class\":{ \n",
    "      \"student\":{ \n",
    "         \"name\":\"Mike\",\n",
    "         \"marks\":{ \n",
    "            \"physics\":70,\n",
    "            \"history\":80\n",
    "         }\n",
    "      }\n",
    "   }\n",
    "}\n",
    "\n",
    "sampleDict['class']['student']['marks']['history']\n",
    "#sampleDict['class']['student']['marks'][1].....>Gives error\n",
    "#sampleDict['class'][0]['marks']['history']\n"
   ]
  },
  {
   "cell_type": "code",
   "execution_count": 12,
   "metadata": {},
   "outputs": [
    {
     "name": "stdout",
     "output_type": "stream",
     "text": [
      "27\n",
      "Male\n"
     ]
    }
   ],
   "source": [
    "#Print student age and sex\n",
    "student = {1: {'name': 'Emma', 'age': '27', 'sex': 'Female'},\n",
    "           2: {'name': 'Mike', 'age': '22', 'sex': 'Male'}}\n",
    "print(student[1][\"age\"])\n",
    "print(student[2][\"sex\"])\n"
   ]
  },
  {
   "cell_type": "code",
   "execution_count": null,
   "metadata": {},
   "outputs": [],
   "source": [
    "#Below gives a key error\n",
    "\"\"\"dict1 = {\"name\": \"Mike\", \"salary\": 8000}\n",
    "temp = dict1.pop(\"age\")\n",
    "print(temp)\"\"\"\n"
   ]
  },
  {
   "cell_type": "code",
   "execution_count": null,
   "metadata": {},
   "outputs": [
    {
     "name": "stdout",
     "output_type": "stream",
     "text": [
      "True\n"
     ]
    }
   ],
   "source": [
    "#gives true \n",
    "dict1 = {\"key1\":1, \"key2\":2}\n",
    "dict2 = {\"key2\":2, \"key1\":1}\n",
    "print(dict1 == dict2)\n"
   ]
  }
 ],
 "metadata": {
  "kernelspec": {
   "display_name": "Python 3",
   "language": "python",
   "name": "python3"
  },
  "language_info": {
   "codemirror_mode": {
    "name": "ipython",
    "version": 3
   },
   "file_extension": ".py",
   "mimetype": "text/x-python",
   "name": "python",
   "nbconvert_exporter": "python",
   "pygments_lexer": "ipython3",
   "version": "3.11.5"
  }
 },
 "nbformat": 4,
 "nbformat_minor": 2
}
