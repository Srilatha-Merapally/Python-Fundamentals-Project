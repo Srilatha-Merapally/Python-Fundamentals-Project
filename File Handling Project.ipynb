{
 "cells": [
  {
   "cell_type": "code",
   "execution_count": 78,
   "metadata": {},
   "outputs": [
    {
     "name": "stdout",
     "output_type": "stream",
     "text": [
      "<_io.TextIOWrapper name='read.txt' mode='rt' encoding='cp1252'>\n"
     ]
    }
   ],
   "source": [
    "\"\"\"#To open the text file\n",
    "#Note: Make sure the file exists, or else you will get an error.\n",
    "f=open(\"read.txt\",\"rt\")#r for read and t means text file\n",
    "print(f)\"\"\""
   ]
  },
  {
   "cell_type": "code",
   "execution_count": 89,
   "metadata": {},
   "outputs": [
    {
     "name": "stdout",
     "output_type": "stream",
     "text": [
      "I am overwriting the file\n"
     ]
    }
   ],
   "source": [
    "#To open the file, use the built-in open() function.\n",
    "#The open() function returns a file object, which has a read() method for reading the content of the file:\n",
    "f=open(\"read.txt\",\"r\")\n",
    "print(f.read())"
   ]
  },
  {
   "cell_type": "code",
   "execution_count": 90,
   "metadata": {},
   "outputs": [
    {
     "name": "stdout",
     "output_type": "stream",
     "text": [
      "1)Show a menu\n",
      "2)ask for user input\n",
      "3a)input=1 ask user for input\n",
      "add input to dictionary or list\n",
      "3b)input=z\n",
      "putuser input into groups of z,based on random or random.randint()\n",
      "dhow groups\n",
      "\n",
      "sergi\n",
      "what you want to after this course \n",
      "what you had done\n",
      "towardsdatascience.com\n"
     ]
    }
   ],
   "source": [
    "#If the file is located in a different location, you will have to specify the file path, like this:\n",
    "\n",
    "#If you done specify r String you will get eror with backslashes in the path\n",
    "\n",
    "f=open(r\"C:\\Users\\test\\Documents\\Phython Material\\Python\\Python\\task.txt\",\"r\")\n",
    "\n",
    "print(f.read())"
   ]
  },
  {
   "cell_type": "code",
   "execution_count": 94,
   "metadata": {},
   "outputs": [
    {
     "name": "stdout",
     "output_type": "stream",
     "text": [
      "I am \n"
     ]
    }
   ],
   "source": [
    "#Read Only Parts of the File\n",
    "#By default the read() method returns the whole text, but you can also specify how many characters you want to return:\n",
    "\n",
    "f=open(\"read.txt\",'r')\n",
    "print(f.read(5))"
   ]
  },
  {
   "cell_type": "code",
   "execution_count": 95,
   "metadata": {},
   "outputs": [
    {
     "name": "stdout",
     "output_type": "stream",
     "text": [
      "I am ov\n"
     ]
    }
   ],
   "source": [
    "#Read Only Parts of the File\n",
    "#By default the read() method returns the whole text, but you can also specify how many characters you want to return:\n",
    "# Using a raw string to avoid the 'unicodeescape' error\n",
    "file_path = r'C:\\Users\\test\\Documents\\Phython Practice\\Files\\read.txt'\n",
    "\n",
    "# Open the file in read mode ('r')\n",
    "with open(file_path, 'r') as f:\n",
    "    # Using read() to read the entire contents of the file\n",
    "    content = f.read(7)\n",
    "    print(content)"
   ]
  },
  {
   "cell_type": "code",
   "execution_count": 99,
   "metadata": {},
   "outputs": [
    {
     "name": "stdout",
     "output_type": "stream",
     "text": [
      "I am overwriting the file\n",
      "\n"
     ]
    }
   ],
   "source": [
    "#By calling readline() two times, you can read the two first lines:\n",
    "f=open('read.txt','r')\n",
    "print(f.readline())\n",
    "print(f.readline())"
   ]
  },
  {
   "cell_type": "code",
   "execution_count": 106,
   "metadata": {},
   "outputs": [
    {
     "name": "stdout",
     "output_type": "stream",
     "text": [
      "I am overwriting the file\n",
      "\n",
      "Do you want to override it ?\n",
      "\n"
     ]
    }
   ],
   "source": [
    "#By calling readline() two times, you can read the two first lines:\n",
    "# Using a raw string to avoid the 'unicodeescape' error\n",
    "file_path = r'C:\\Users\\test\\Documents\\Phython Practice\\Files\\read.txt'\n",
    "\n",
    "# Open the file in read mode ('r')\n",
    "with open(file_path, 'r') as f:\n",
    "    print(f.readline())\n",
    "    print(f.readline())"
   ]
  },
  {
   "cell_type": "code",
   "execution_count": 112,
   "metadata": {},
   "outputs": [
    {
     "name": "stdout",
     "output_type": "stream",
     "text": [
      "I am overwriting the file\n",
      "\n",
      "Do you want to override it ?\n",
      "\n",
      "Dont you want to Override it?\n"
     ]
    }
   ],
   "source": [
    "#By looping through the lines of the file, you can read the whole file, line by line:\n",
    "\n",
    "file_path = r'C:\\Users\\test\\Documents\\Phython Practice\\Files\\read.txt'\n",
    "with open(file_path, 'r') as f:\n",
    "# Open the file in read mode ('r')\n",
    "#f=open('read.txt','r')\n",
    "\n",
    "    for x in f:\n",
    "    \n",
    "      print(x)"
   ]
  },
  {
   "cell_type": "code",
   "execution_count": 113,
   "metadata": {},
   "outputs": [
    {
     "name": "stdout",
     "output_type": "stream",
     "text": [
      "I am overwriting the file\n",
      "\n"
     ]
    }
   ],
   "source": [
    "#Close Files\n",
    "\n",
    "#It is a good  to always close the file when you are done with it.\n",
    "file_path = r'C:\\Users\\test\\Documents\\Phython Practice\\Files\\read.txt'\n",
    "with open(file_path, 'r') as f:\n",
    "\n",
    "    print(f.readline())\n",
    "f.close()\n",
    "\n",
    "# You should always close your files, in some cases, due to buffering, changes made to a file may not show until you close the file."
   ]
  },
  {
   "cell_type": "code",
   "execution_count": 123,
   "metadata": {},
   "outputs": [
    {
     "name": "stdout",
     "output_type": "stream",
     "text": [
      "I am overwriting the fileMy first write method to add into text file\n"
     ]
    }
   ],
   "source": [
    "\"\"\"Write to an Existing File\n",
    "To write to an existing file, you must add a parameter to the open() function:\n",
    "\n",
    "\"a\" - Append - will append to the end of the file\n",
    "\n",
    "\"w\" - Write - will overwrite any existing content\"\"\"\n",
    "\n",
    "f=open(\"read.txt\",'a')\n",
    "f.write(\"My first write method to add into text file\")\n",
    "f.close()\n",
    "\n",
    "#Open and read the file after appending\n",
    "f=open(\"read.txt\",'r')\n",
    "print(f.read())\n"
   ]
  },
  {
   "cell_type": "code",
   "execution_count": 124,
   "metadata": {},
   "outputs": [
    {
     "name": "stdout",
     "output_type": "stream",
     "text": [
      "I am overwriting the file\n"
     ]
    }
   ],
   "source": [
    "#Over writing the file\n",
    "#the \"w\" method will overwrite the entire file.\n",
    "\n",
    "f=open('read.txt','w')\n",
    "\n",
    "f.write('I am overwriting the file')\n",
    "f.close()\n",
    "\n",
    "\n",
    "#After over writing the file\n",
    "\n",
    "f=open('read.txt','r')\n",
    "print(f.read())"
   ]
  },
  {
   "cell_type": "code",
   "execution_count": 126,
   "metadata": {},
   "outputs": [],
   "source": [
    "\"\"\"Create a New File\n",
    "To create a new file in Python, use the open() method, with one of the following parameters:\n",
    "\n",
    "\"x\" - Create - will create a file, returns an error if the file exist\n",
    "\n",
    "\"a\" - Append - will create a file if the specified file does not exist\n",
    "\n",
    "\"w\" - Write - will create a file if the specified file does not exist\"\"\"\n",
    "\n",
    "f = open(\"creatingfile3.txt\",\"x\")\n",
    "\n",
    "#If werun the above code second time it gives errot as like  the file is already exist"
   ]
  },
  {
   "cell_type": "code",
   "execution_count": 130,
   "metadata": {},
   "outputs": [],
   "source": [
    "#Create a new file if it does not exist:\n",
    "\n",
    "f=open('creatingfile2','w')"
   ]
  },
  {
   "cell_type": "code",
   "execution_count": 132,
   "metadata": {},
   "outputs": [],
   "source": [
    "\"\"\"Delete a File\n",
    "To delete a file, you must import the OS module, and run its os.remove() function:\"\"\"\n",
    "\n",
    "import os\n",
    "os.remove('creatingfile2.txt')"
   ]
  },
  {
   "cell_type": "code",
   "execution_count": 133,
   "metadata": {},
   "outputs": [
    {
     "name": "stdout",
     "output_type": "stream",
     "text": [
      "The file is not exist\n"
     ]
    }
   ],
   "source": [
    "\"\"\"Check if File exist:\n",
    "To avoid getting an error, you might want to check if the file exists before you try to delete it:\"\"\"\n",
    "\n",
    "if os.path.exists('creatingfile1.txt'):\n",
    "    os.remove('creatingfile1.txt')\n",
    "else:\n",
    "    print(\"The file is not exist\")\n",
    "\n",
    "#To delete an entire folder, use the os.rmdir() method:You can only remove empty folders."
   ]
  }
 ],
 "metadata": {
  "kernelspec": {
   "display_name": "Python 3",
   "language": "python",
   "name": "python3"
  },
  "language_info": {
   "codemirror_mode": {
    "name": "ipython",
    "version": 3
   },
   "file_extension": ".py",
   "mimetype": "text/x-python",
   "name": "python",
   "nbconvert_exporter": "python",
   "pygments_lexer": "ipython3",
   "version": "3.11.5"
  }
 },
 "nbformat": 4,
 "nbformat_minor": 2
}
